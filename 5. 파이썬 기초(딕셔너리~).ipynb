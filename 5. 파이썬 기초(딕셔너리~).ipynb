{
 "cells": [
  {
   "cell_type": "markdown",
   "metadata": {},
   "source": [
    "# 딕셔너리\n",
    "- key 와 value 로 구성되어 있는 자료형"
   ]
  },
  {
   "cell_type": "code",
   "execution_count": 7,
   "metadata": {},
   "outputs": [
    {
     "data": {
      "text/plain": [
       "{'name': '인쌤'}"
      ]
     },
     "execution_count": 7,
     "metadata": {},
     "output_type": "execute_result"
    }
   ],
   "source": [
    "dic_1 = {'name' : \"인쌤\"}\n",
    "dic_1"
   ]
  },
  {
   "cell_type": "code",
   "execution_count": 51,
   "metadata": {},
   "outputs": [
    {
     "name": "stdout",
     "output_type": "stream",
     "text": [
      "인쌤\n",
      "20\n",
      "062-655-5050\n",
      "None\n",
      "True\n"
     ]
    }
   ],
   "source": [
    "#딕셔너리 내 데이터 접근\n",
    "dic1 = {'name' : '인쌤' , 'age' : 20, 'phone' : '062-655-5050'}\n",
    "type(dic1)\n",
    "print(dic1['name'])\n",
    "print(dic1['age'])\n",
    "print(dic1['phone'])    \n",
    "\n",
    "print(dic1.get('blood')) # 해당 Key 없음으로 none 발생\n",
    "print(dic1.get('blood') == None) #해당 Key 가 없는 경우 . True 발생"
   ]
  },
  {
   "cell_type": "code",
   "execution_count": 61,
   "metadata": {},
   "outputs": [],
   "source": [
    "#딕셔너리 데이터 추가\n",
    "dic1['height'] = 174"
   ]
  },
  {
   "cell_type": "code",
   "execution_count": 56,
   "metadata": {},
   "outputs": [],
   "source": [
    "dic1['address'] = '광주 남구 송암로 60'"
   ]
  },
  {
   "cell_type": "code",
   "execution_count": 26,
   "metadata": {},
   "outputs": [],
   "source": [
    "dic1['blood'] = 'O'"
   ]
  },
  {
   "cell_type": "code",
   "execution_count": 57,
   "metadata": {},
   "outputs": [
    {
     "data": {
      "text/plain": [
       "{'name': '인쌤', 'age': 25, 'phone': '062-655-5050', 'address': '광주 남구 송암로 60'}"
      ]
     },
     "execution_count": 57,
     "metadata": {},
     "output_type": "execute_result"
    }
   ],
   "source": [
    "dic1"
   ]
  },
  {
   "cell_type": "code",
   "execution_count": 34,
   "metadata": {},
   "outputs": [],
   "source": [
    "dic_test = {\"노래제목\" : \"아무노래\"}"
   ]
  },
  {
   "cell_type": "code",
   "execution_count": 38,
   "metadata": {},
   "outputs": [],
   "source": [
    "dic_test[\"가수\"] = \"지코\"\n",
    "dic_test[\"날짜\"] = \"2020.01.13\""
   ]
  },
  {
   "cell_type": "code",
   "execution_count": 41,
   "metadata": {},
   "outputs": [
    {
     "data": {
      "text/plain": [
       "{'노래제목': '아무노래', '가수': '지코', '날짜': '2020.01.13'}"
      ]
     },
     "execution_count": 41,
     "metadata": {},
     "output_type": "execute_result"
    }
   ],
   "source": [
    "dic_test"
   ]
  },
  {
   "cell_type": "code",
   "execution_count": 44,
   "metadata": {},
   "outputs": [
    {
     "ename": "KeyError",
     "evalue": "'blood'",
     "output_type": "error",
     "traceback": [
      "\u001b[1;31m---------------------------------------------------------------------------\u001b[0m",
      "\u001b[1;31mKeyError\u001b[0m                                  Traceback (most recent call last)",
      "\u001b[1;32m<ipython-input-44-e18cf3758eab>\u001b[0m in \u001b[0;36m<module>\u001b[1;34m\u001b[0m\n\u001b[0;32m      1\u001b[0m \u001b[1;31m#딕셔너리 데이터 삭제\u001b[0m\u001b[1;33m\u001b[0m\u001b[1;33m\u001b[0m\u001b[1;33m\u001b[0m\u001b[0m\n\u001b[1;32m----> 2\u001b[1;33m \u001b[1;32mdel\u001b[0m \u001b[0mdic1\u001b[0m\u001b[1;33m[\u001b[0m\u001b[1;34m'blood'\u001b[0m\u001b[1;33m]\u001b[0m\u001b[1;33m\u001b[0m\u001b[1;33m\u001b[0m\u001b[0m\n\u001b[0m",
      "\u001b[1;31mKeyError\u001b[0m: 'blood'"
     ]
    }
   ],
   "source": [
    "#딕셔너리 데이터 삭제\n",
    "del dic1['blood']"
   ]
  },
  {
   "cell_type": "code",
   "execution_count": 58,
   "metadata": {},
   "outputs": [
    {
     "data": {
      "text/plain": [
       "{'name': '인쌤', 'age': 25, 'phone': '062-655-5050', 'address': '광주 남구 송암로 60'}"
      ]
     },
     "execution_count": 58,
     "metadata": {},
     "output_type": "execute_result"
    }
   ],
   "source": [
    "dic1"
   ]
  },
  {
   "cell_type": "code",
   "execution_count": 53,
   "metadata": {},
   "outputs": [],
   "source": [
    "#딕셔너리 데이터 수정\n",
    "    \n",
    "dic1['age'] = 25"
   ]
  },
  {
   "cell_type": "code",
   "execution_count": 62,
   "metadata": {},
   "outputs": [
    {
     "data": {
      "text/plain": [
       "{'name': '인쌤',\n",
       " 'age': 25,\n",
       " 'phone': '062-655-5050',\n",
       " 'address': '광주 남구 송암로 60',\n",
       " 'height': 174}"
      ]
     },
     "execution_count": 62,
     "metadata": {},
     "output_type": "execute_result"
    }
   ],
   "source": [
    "dic1"
   ]
  },
  {
   "cell_type": "code",
   "execution_count": 66,
   "metadata": {},
   "outputs": [
    {
     "name": "stdout",
     "output_type": "stream",
     "text": [
      "name\n",
      "age\n",
      "phone\n",
      "address\n",
      "height\n"
     ]
    }
   ],
   "source": [
    "# 딕셔너리 key 값만 접근\n",
    "for key in dic1.keys() :\n",
    "    print(key)"
   ]
  },
  {
   "cell_type": "code",
   "execution_count": 71,
   "metadata": {},
   "outputs": [
    {
     "name": "stdout",
     "output_type": "stream",
     "text": [
      "인쌤\n",
      "25\n",
      "062-655-5050\n",
      "광주 남구 송암로 60\n",
      "174\n"
     ]
    }
   ],
   "source": [
    "# 딕셔너리의 value 값만 접근\n",
    "for value in dic1.values() :\n",
    "    print(value)"
   ]
  },
  {
   "cell_type": "code",
   "execution_count": 74,
   "metadata": {},
   "outputs": [
    {
     "data": {
      "text/plain": [
       "dict_items([('name', '인쌤'), ('age', 25), ('phone', '062-655-5050'), ('address', '광주 남구 송암로 60'), ('height', 174)])"
      ]
     },
     "execution_count": 74,
     "metadata": {},
     "output_type": "execute_result"
    }
   ],
   "source": [
    "dic1.items()"
   ]
  },
  {
   "cell_type": "code",
   "execution_count": 82,
   "metadata": {},
   "outputs": [
    {
     "name": "stdout",
     "output_type": "stream",
     "text": [
      "name 인쌤\n",
      "age 25\n",
      "phone 062-655-5050\n",
      "address 광주 남구 송암로 60\n",
      "height 174\n"
     ]
    }
   ],
   "source": [
    "# 반복문 활용 key , value 동시출력 / 변수 2개로 진행 (ex: k, v)\n",
    "for k, v in dic1.items():\n",
    "    print(k, v)\n",
    "    "
   ]
  },
  {
   "cell_type": "code",
   "execution_count": 114,
   "metadata": {},
   "outputs": [
    {
     "name": "stdout",
     "output_type": "stream",
     "text": [
      "기영 98\n",
      "기철 80\n",
      "오덕 100\n",
      "춘식 70\n",
      "=========\n",
      "평균 87\n"
     ]
    }
   ],
   "source": [
    "data = {\"기영\" : 98, \"기철\" : 80 , \"오덕\" : 100 , \"춘식\" : 70}\n",
    "avg = int(sum(data.values())) // len(data.values())\n",
    "for a, b in data.items() :\n",
    "    print(a, b)\n",
    "print('='*9)\n",
    "print(\"평균\", avg)"
   ]
  },
  {
   "cell_type": "code",
   "execution_count": 115,
   "metadata": {},
   "outputs": [
    {
     "name": "stdout",
     "output_type": "stream",
     "text": [
      "기영 98\n",
      "기철 80\n",
      "오덕 100\n",
      "춘식 70\n",
      "=========\n",
      "평균 87\n"
     ]
    }
   ],
   "source": [
    "data = {\"기영\" : 98, \"기철\" : 80 , \"오덕\" : 100 , \"춘식\" : 70}\n",
    "for a, b in data.items() :\n",
    "    print(a, b)\n",
    "print('='*9)\n",
    "\n",
    "sum_score = 0\n",
    "for score in data.values() :\n",
    "    sum_score = sum_score + score\n",
    "\n",
    "avg = sum_score // len(data.values())\n",
    "print('평균 {}' . format(avg))"
   ]
  },
  {
   "cell_type": "code",
   "execution_count": 142,
   "metadata": {},
   "outputs": [
    {
     "name": "stdout",
     "output_type": "stream",
     "text": [
      "{'수학': 221, '국어': 203, '영어': 170}\n"
     ]
    }
   ],
   "source": [
    "#dic 안에 dic 문제\n",
    "score_dic = {\"홍길동\" : {\"수학\" : 99, \"영어\" : 80, \"국어\" : 75},  \"김미정\" : {\"영어\" : 67, \"국어\" : 87, \"수학\" : 55}, \"정수진\" : {\"수학\" : 67, \"국어\" : 41, \"영어\" : 23}}\n",
    "\n",
    "score_dic = {'수학' : score_dic[\"홍길동\"][\"수학\"] + score_dic[\"김미정\"][\"수학\"] + score_dic[\"정수진\"][\"수학\"], '국어' : score_dic[\"홍길동\"][\"국어\"] + score_dic[\"김미정\"][\"국어\"] + score_dic[\"정수진\"][\"국어\"], \"영어\" : score_dic[\"홍길동\"][\"영어\"] + score_dic[\"김미정\"][\"영어\"] + score_dic[\"정수진\"][\"영어\"]}\n",
    "print(score_dic)"
   ]
  },
  {
   "cell_type": "code",
   "execution_count": null,
   "metadata": {},
   "outputs": [],
   "source": []
  },
  {
   "cell_type": "markdown",
   "metadata": {},
   "source": [
    "score_dic = {\"홍길동\" : {\"수학\" : 99, \"영어\" : 80, \"국어\" : 75},  \"김미정\" : {\"영어\" : 67, \"국어\" : 87, \"수학\" : 55}, \"정수진\" : {\"수학\" : 67, \"국어\" : 41, \"영어\" : 23}}\n",
    "m = 0\n",
    "e = 0\n",
    "k = 0\n",
    "for sject in score_dic.values():\n",
    "    m = m + (score_dic.value(\"수학\"))\n",
    "    e = e + (score_dic.value(\"영어\"))\n",
    "    k = k + (score_dic.value(\"국어\"))\n",
    "\n",
    "print(\"수학 : {}, 국어 : {}, 영어 : {}\" . format(m, e, k))    "
   ]
  },
  {
   "cell_type": "code",
   "execution_count": 171,
   "metadata": {},
   "outputs": [
    {
     "name": "stdout",
     "output_type": "stream",
     "text": [
      "홍길동\n",
      "김미정\n",
      "정수진\n",
      "{'수학': 221, '국어': 203, '영어': 170}\n"
     ]
    }
   ],
   "source": [
    "score_dic = {\"홍길동\" : {\"수학\" : 99, \"영어\" : 80, \"국어\" : 75},  \"김미정\" : {\"영어\" : 67, \"국어\" : 87, \"수학\" : 55}, \"정수진\" : {\"수학\" : 67, \"국어\" : 41, \"영어\" : 23}}\n",
    "\n",
    "kor = 0\n",
    "math = 0\n",
    "eng = 0\n",
    "\n",
    "for name in score_dic.keys():\n",
    "    math += score_dic[name][\"수학\"]\n",
    "    kor += score_dic[name][\"국어\"]\n",
    "    eng += score_dic[name][\"영어\"]\n",
    "\n",
    "score_total = {'수학' : math , '국어' : kor , '영어' : eng}\n",
    "print(score_total)"
   ]
  },
  {
   "cell_type": "code",
   "execution_count": 178,
   "metadata": {},
   "outputs": [
    {
     "name": "stdout",
     "output_type": "stream",
     "text": [
      "치평동\n"
     ]
    }
   ],
   "source": [
    "adic = {\"주소\" : {\"광주\" : \"치평동\"}}\n",
    "for ad in adic.keys():\n",
    "    print(adic[ad][\"광주\"])"
   ]
  },
  {
   "cell_type": "markdown",
   "metadata": {},
   "source": [
    "# 함수(Function)\n",
    "- 실행할 명령들을 독립적으로 실행할 수 있게 모아둔 집합"
   ]
  },
  {
   "cell_type": "code",
   "execution_count": 183,
   "metadata": {},
   "outputs": [],
   "source": [
    "# 함수 정의         \n",
    "def number_sum(num1, num2): \n",
    "    print(num1 + num2)"
   ]
  },
  {
   "cell_type": "code",
   "execution_count": 185,
   "metadata": {},
   "outputs": [
    {
     "name": "stdout",
     "output_type": "stream",
     "text": [
      "10\n"
     ]
    }
   ],
   "source": [
    "number_sum(5, 5) # 함수 호출(실행)"
   ]
  },
  {
   "cell_type": "code",
   "execution_count": 207,
   "metadata": {},
   "outputs": [],
   "source": [
    "#가변 매개변수 정의 : 튜플 형태로 저장\n",
    "#입력받을 매개변수의 갯수를 알 수 없을 때\n",
    "def number_sum(*num):\n",
    "    print(num + num)"
   ]
  },
  {
   "cell_type": "code",
   "execution_count": 208,
   "metadata": {
    "scrolled": true
   },
   "outputs": [
    {
     "name": "stdout",
     "output_type": "stream",
     "text": [
      "(1, 23, 1, 4, 5, 1, 23, 1, 4, 5)\n"
     ]
    }
   ],
   "source": [
    "number_sum(1,23,1,4,5)"
   ]
  },
  {
   "cell_type": "code",
   "execution_count": 204,
   "metadata": {},
   "outputs": [],
   "source": [
    "def add_sub(num1, num2):\n",
    "    #함수를 호출한 곳으로 값 보내기\n",
    "    return num1+num2, num1-num2"
   ]
  },
  {
   "cell_type": "code",
   "execution_count": 206,
   "metadata": {},
   "outputs": [
    {
     "name": "stdout",
     "output_type": "stream",
     "text": [
      "15\n",
      "-5\n"
     ]
    }
   ],
   "source": [
    "a ,b = add_sub(5,10)\n",
    "print(a)\n",
    "print(b)"
   ]
  }
 ],
 "metadata": {
  "kernelspec": {
   "display_name": "Python 3",
   "language": "python",
   "name": "python3"
  },
  "language_info": {
   "codemirror_mode": {
    "name": "ipython",
    "version": 3
   },
   "file_extension": ".py",
   "mimetype": "text/x-python",
   "name": "python",
   "nbconvert_exporter": "python",
   "pygments_lexer": "ipython3",
   "version": "3.8.5"
  }
 },
 "nbformat": 4,
 "nbformat_minor": 4
}
