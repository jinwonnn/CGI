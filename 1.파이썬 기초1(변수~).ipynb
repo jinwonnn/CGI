{
 "cells": [
  {
   "cell_type": "markdown",
   "metadata": {},
   "source": [
    "# 설명작성 셀\n",
    "- ctrl + Enter : 실행\n",
    "- Enter : Edit Mode (작성모드)"
   ]
  },
  {
   "cell_type": "code",
   "execution_count": 2,
   "metadata": {},
   "outputs": [
    {
     "name": "stdout",
     "output_type": "stream",
     "text": [
      "3\n"
     ]
    }
   ],
   "source": [
    "#코드작성 셀\n",
    "num = 3\n",
    "print(num)"
   ]
  },
  {
   "cell_type": "code",
   "execution_count": 4,
   "metadata": {},
   "outputs": [
    {
     "name": "stdout",
     "output_type": "stream",
     "text": [
      "5\n"
     ]
    }
   ],
   "source": [
    "num = 5\n",
    "print(num)"
   ]
  },
  {
   "cell_type": "code",
   "execution_count": 7,
   "metadata": {},
   "outputs": [
    {
     "name": "stdout",
     "output_type": "stream",
     "text": [
      "제 나이는 26살입니다.\n"
     ]
    }
   ],
   "source": [
    "age = '26'\n",
    "print('제 나이는 '+age+'살입니다.')"
   ]
  },
  {
   "cell_type": "code",
   "execution_count": 9,
   "metadata": {},
   "outputs": [
    {
     "name": "stdout",
     "output_type": "stream",
     "text": [
      "13\n",
      "77\n",
      "77\n"
     ]
    }
   ],
   "source": [
    "num1 = 13\n",
    "num2 = 25\n",
    "num2 = 77\n",
    "\n",
    "print(num1)\n",
    "print(num2)\n",
    "print(num2)"
   ]
  },
  {
   "cell_type": "code",
   "execution_count": 11,
   "metadata": {},
   "outputs": [
    {
     "data": {
      "text/plain": [
       "'26'"
      ]
     },
     "execution_count": 11,
     "metadata": {},
     "output_type": "execute_result"
    }
   ],
   "source": [
    "age"
   ]
  },
  {
   "cell_type": "code",
   "execution_count": 13,
   "metadata": {},
   "outputs": [
    {
     "name": "stdout",
     "output_type": "stream",
     "text": [
      "3.1425\n",
      "1.25\n",
      "3.0\n"
     ]
    }
   ],
   "source": [
    "num3 = 3.1425\n",
    "num4 = 1.25\n",
    "num5 = 3.0\n",
    "\n",
    "print(num3)\n",
    "print(num4)\n",
    "print(num5)"
   ]
  },
  {
   "cell_type": "code",
   "execution_count": 18,
   "metadata": {},
   "outputs": [
    {
     "name": "stdout",
     "output_type": "stream",
     "text": [
      "Funny python Easy python\n"
     ]
    }
   ],
   "source": [
    "str1 = \"Funny python\"\n",
    "str2 = 'Easy python'\n",
    "\n",
    "print(str1 , str2)\n",
    "\n",
    "# print(str1)\n",
    "# print(str2)"
   ]
  },
  {
   "cell_type": "code",
   "execution_count": 20,
   "metadata": {},
   "outputs": [
    {
     "name": "stdout",
     "output_type": "stream",
     "text": [
      "20 25\n"
     ]
    }
   ],
   "source": [
    "# 여러 변수의 값을 동시에 초기화하는 방법\n",
    "a = 10\n",
    "b = 15\n",
    "\n",
    "c, d = 20, 25\n",
    "\n",
    "print(c, d)\n",
    "\n",
    "#하나의 값을 여러 공간에 저장하는 방법\n"
   ]
  },
  {
   "cell_type": "code",
   "execution_count": 23,
   "metadata": {},
   "outputs": [
    {
     "name": "stdout",
     "output_type": "stream",
     "text": [
      "300\n"
     ]
    }
   ],
   "source": [
    "x = 100\n",
    "y = 200\n",
    "sum1 = x+y\n",
    "print(sum1)"
   ]
  },
  {
   "cell_type": "code",
   "execution_count": 27,
   "metadata": {},
   "outputs": [
    {
     "name": "stdout",
     "output_type": "stream",
     "text": [
      "hello~ python.\n",
      "hello~ \n",
      "python.\n"
     ]
    }
   ],
   "source": [
    "msg4 = 'hello~ python.'\n",
    "print(msg4)\n",
    "\n",
    "msg5 = '''hello~ \n",
    "python.'''\n",
    "print(msg5)"
   ]
  },
  {
   "cell_type": "code",
   "execution_count": 33,
   "metadata": {},
   "outputs": [
    {
     "name": "stdout",
     "output_type": "stream",
     "text": [
      "name\n",
      " \n"
     ]
    }
   ],
   "source": [
    "intro = 'My name is WJ'\n",
    "print(intro[3:7])\n",
    "\n",
    "print(intro[-6:-5])"
   ]
  },
  {
   "cell_type": "code",
   "execution_count": 47,
   "metadata": {},
   "outputs": [
    {
     "name": "stdout",
     "output_type": "stream",
     "text": [
      "년도: 2020\n",
      "월일: 0706\n",
      "날씨: Sunny\n"
     ]
    }
   ],
   "source": [
    "dy_info=\"20200706Sunny\"\n",
    "year=dy_info[0:4]\n",
    "day=dy_info[4:8]\n",
    "weather=dy_info[8:]\n",
    "print(\"년도:\" , year)\n",
    "print(\"월일:\" , day)\n",
    "print(\"날씨:\" , weather)"
   ]
  },
  {
   "cell_type": "code",
   "execution_count": 56,
   "metadata": {},
   "outputs": [
    {
     "name": "stdout",
     "output_type": "stream",
     "text": [
      "날짜 : 2020년 3월 3일\n",
      "날씨 : 맑음\n"
     ]
    }
   ],
   "source": [
    "s = \"2020년 3월 3일의 날씨는 맑음입니다.\"\n",
    "date = s[0:11]\n",
    "weather = s[17:19]\n",
    "print(\"날짜 : \" + date)\n",
    "print(\"날씨 : \" + weather)"
   ]
  },
  {
   "cell_type": "code",
   "execution_count": 59,
   "metadata": {},
   "outputs": [],
   "source": [
    "## 문자열 Formatting\n",
    "# - '%' 문자활용\n",
    "# - format() 기능활용"
   ]
  },
  {
   "cell_type": "code",
   "execution_count": 68,
   "metadata": {},
   "outputs": [
    {
     "name": "stdout",
     "output_type": "stream",
     "text": [
      "오늘은 4월 10일입니다.\n"
     ]
    }
   ],
   "source": [
    "date = \"오늘\"\n",
    "month = 4\n",
    "day = 10\n",
    "msg = \"%s은 %d월 %d일입니다.\"%(date, month, day)\n",
    "print(msg)"
   ]
  },
  {
   "cell_type": "code",
   "execution_count": 70,
   "metadata": {},
   "outputs": [
    {
     "name": "stdout",
     "output_type": "stream",
     "text": [
      "오늘은 5월 5일입니다\n"
     ]
    }
   ],
   "source": [
    "when = '오늘'\n",
    "month = 5\n",
    "day = 5\n",
    "\n",
    "msg2 = '{}은 {}월 {}일입니다' .format(when, month, day)\n",
    "print(msg2)"
   ]
  },
  {
   "cell_type": "code",
   "execution_count": 76,
   "metadata": {},
   "outputs": [
    {
     "name": "stdout",
     "output_type": "stream",
     "text": [
      "100와 + 200와 합은 300입니다\n"
     ]
    }
   ],
   "source": [
    "x = 100\n",
    "y = 200\n",
    "sum = x+y\n",
    "print(\"{}와 + {}와 합은 {}입니다\".format(x, y, sum))"
   ]
  },
  {
   "cell_type": "markdown",
   "metadata": {},
   "source": [
    "문자열 함수"
   ]
  },
  {
   "cell_type": "code",
   "execution_count": 78,
   "metadata": {},
   "outputs": [
    {
     "name": "stdout",
     "output_type": "stream",
     "text": [
      "25\n"
     ]
    }
   ],
   "source": [
    "msg3 = 'Python is easy and simple'\n",
    "\n",
    "#문자열의 길이 len\n",
    "\n",
    "print(len(msg3))"
   ]
  },
  {
   "cell_type": "code",
   "execution_count": 82,
   "metadata": {},
   "outputs": [
    {
     "name": "stdout",
     "output_type": "stream",
     "text": [
      " Python is easy and simple \n",
      "Python is easy and simple\n"
     ]
    }
   ],
   "source": [
    "# 양쪽공백 제거 : strip()\n",
    "msg4 = ' Python is easy and simple '\n",
    "print(msg4)\n",
    "print(msg4.strip())"
   ]
  },
  {
   "cell_type": "code",
   "execution_count": 89,
   "metadata": {},
   "outputs": [
    {
     "name": "stdout",
     "output_type": "stream",
     "text": [
      "Java is easy and simple\n",
      "Python is easy and simple\n",
      "Java is easy and simple\n"
     ]
    }
   ],
   "source": [
    "# 특정 문자를 다른 문자로 대체 : 변수, replace(이전 문자, 대체할 문자)\n",
    "print(msg3.replace('Python','Java'))\n",
    "print(msg3)\n",
    "\n",
    "msg3 = msg3.replace('Python','Java')\n",
    "print(msg3)\n"
   ]
  },
  {
   "cell_type": "code",
   "execution_count": null,
   "metadata": {},
   "outputs": [],
   "source": []
  }
 ],
 "metadata": {
  "kernelspec": {
   "display_name": "Python 3",
   "language": "python",
   "name": "python3"
  },
  "language_info": {
   "codemirror_mode": {
    "name": "ipython",
    "version": 3
   },
   "file_extension": ".py",
   "mimetype": "text/x-python",
   "name": "python",
   "nbconvert_exporter": "python",
   "pygments_lexer": "ipython3",
   "version": "3.8.5"
  }
 },
 "nbformat": 4,
 "nbformat_minor": 4
}
