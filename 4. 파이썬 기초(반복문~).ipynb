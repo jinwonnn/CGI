{
 "cells": [
  {
   "cell_type": "markdown",
   "metadata": {},
   "source": [
    "# 반복문 = 반복하여 수행하도록 제어하는 명령문 \n",
    " while 문 / for문\n",
    " while : 반복횟수가 명확하지 않을 때\n",
    " for : 반복 횟수가 명확할 때"
   ]
  },
  {
   "cell_type": "code",
   "execution_count": 2,
   "metadata": {},
   "outputs": [],
   "source": [
    "#조건식이 True 일 경우 실행문장 반복 / False -> 끝 \n",
    "#while 조건식 :\n",
    "#    실행문장\n",
    "#    실행문장\n"
   ]
  },
  {
   "cell_type": "code",
   "execution_count": 4,
   "metadata": {},
   "outputs": [
    {
     "name": "stdout",
     "output_type": "stream",
     "text": [
      "1\n",
      "2\n",
      "3\n",
      "4\n",
      "5\n"
     ]
    }
   ],
   "source": [
    "#1~5까지 숫자를 출력하시오\n",
    "count = 1\n",
    "while count < 6:\n",
    "    print(count)\n",
    "    count = count + 1\n"
   ]
  },
  {
   "cell_type": "code",
   "execution_count": 3,
   "metadata": {},
   "outputs": [
    {
     "name": "stdout",
     "output_type": "stream",
     "text": [
      "배고파..ㅠ\n",
      "배고파..ㅠ\n",
      "배고파..ㅠ\n",
      "배고파..ㅠ\n",
      "배고파..ㅠ\n",
      "배고파..ㅠ\n",
      "배고파..ㅠ\n",
      "배고파..ㅠ\n",
      "배고파..ㅠ\n",
      "배고파..ㅠ\n"
     ]
    }
   ],
   "source": [
    "#'배고파..ㅠ' 10번출력\n",
    "sen = 1\n",
    "while sen <= 10 :\n",
    "    sen = sen+1\n",
    "    print('배고파..ㅠ')"
   ]
  },
  {
   "cell_type": "raw",
   "metadata": {},
   "source": [
    "# 반복문을 제어하는 구문\n",
    "-break문 : 반복문을 종료시키는 구문"
   ]
  },
  {
   "cell_type": "code",
   "execution_count": 12,
   "metadata": {},
   "outputs": [
    {
     "name": "stdout",
     "output_type": "stream",
     "text": [
      "배고파..ㅠ\n",
      "배고파..ㅠ\n",
      "배고파..ㅠ\n",
      "배고파..ㅠ\n",
      "배고파..ㅠ\n",
      "배고파..ㅠ\n",
      "배고파..ㅠ\n",
      "배고파..ㅠ\n",
      "배고파..ㅠ\n",
      "배고파..ㅠ\n"
     ]
    }
   ],
   "source": [
    "sen = 1\n",
    "while True :\n",
    "    if sen <= 10:\n",
    "        print('배고파..ㅠ')\n",
    "        sen = sen+1\n",
    "    else :\n",
    "        break"
   ]
  },
  {
   "cell_type": "code",
   "execution_count": 10,
   "metadata": {},
   "outputs": [
    {
     "name": "stdout",
     "output_type": "stream",
     "text": [
      "첫 번째 정수 입력 >> 5\n",
      "두 번째 정수 입력 >> 5\n",
      "두 수의 합 : 10 \n",
      "첫 번째 정수 입력 >> 0\n",
      "두 번째 정수 입력 >> 0\n",
      "프로그램이 종료 되었습니다.\n"
     ]
    }
   ],
   "source": [
    "num1 = int(input(\"첫 번째 정수 입력 >> \"))\n",
    "num2 = int(input(\"두 번째 정수 입력 >> \"))\n",
    "sum = num1 + num2\n",
    "while True :\n",
    "    if num1!=0 and num2!=0 :\n",
    "        print(\"두 수의 합 : {} \" . format(sum))\n",
    "        num1 = int(input(\"첫 번째 정수 입력 >> \"))\n",
    "        num2 = int(input(\"두 번째 정수 입력 >> \"))\n",
    "    else :\n",
    "        print(\"프로그램이 종료 되었습니다.\")\n",
    "        break"
   ]
  },
  {
   "cell_type": "code",
   "execution_count": 12,
   "metadata": {},
   "outputs": [
    {
     "name": "stdout",
     "output_type": "stream",
     "text": [
      "첫 번째 정수 입력 >> 5\n",
      "두 번째 정수 입력 >> 3\n",
      "두 정수의 합 : 8\n",
      "첫 번째 정수 입력 >> 0\n",
      "두 번째 정수 입력 >> 0\n",
      "프로그램이 종료되었습니다.\n"
     ]
    }
   ],
   "source": [
    "num1 = num2 =1\n",
    "while True :\n",
    "    num1 = int(input(\"첫 번째 정수 입력 >> \"))\n",
    "    num2 = int(input(\"두 번째 정수 입력 >> \"))\n",
    "    \n",
    "    if num1 == 0 and num2 == 0 :\n",
    "        print('프로그램이 종료되었습니다.')\n",
    "        break\n",
    "    else :\n",
    "        print('두 정수의 합 : {}' .format(num1 + num2))"
   ]
  },
  {
   "cell_type": "markdown",
   "metadata": {},
   "source": [
    "# for 문\n",
    "-for 변수 in 문자열 (or리스트 or 튜플) :\n",
    "-    print(변수)"
   ]
  },
  {
   "cell_type": "code",
   "execution_count": 15,
   "metadata": {},
   "outputs": [
    {
     "name": "stdout",
     "output_type": "stream",
     "text": [
      "햄버거\n",
      "치킨\n",
      "피자\n"
     ]
    }
   ],
   "source": [
    "food1 =  \"햄버거\", \"치킨\", \"피자\"\n",
    "for food in food1 :\n",
    "    print(food)"
   ]
  },
  {
   "cell_type": "code",
   "execution_count": 17,
   "metadata": {},
   "outputs": [
    {
     "name": "stdout",
     "output_type": "stream",
     "text": [
      "안\n",
      "녕\n",
      "하\n",
      "세\n",
      "요\n"
     ]
    }
   ],
   "source": [
    "hi = \"안녕하세요\"\n",
    "for s in hi :\n",
    "    print(s)"
   ]
  },
  {
   "cell_type": "code",
   "execution_count": 19,
   "metadata": {},
   "outputs": [
    {
     "name": "stdout",
     "output_type": "stream",
     "text": [
      "햄버거\n",
      "치킨\n",
      "피자\n"
     ]
    }
   ],
   "source": [
    "tuple_food = ('햄버거' , '치킨', '피자')\n",
    "for food in tuple_food :\n",
    "    print(food)"
   ]
  },
  {
   "cell_type": "code",
   "execution_count": 40,
   "metadata": {},
   "outputs": [
    {
     "name": "stdout",
     "output_type": "stream",
     "text": [
      "1번 학생은 합격입니다. \n",
      "2번 학생은 불합격입니다. \n",
      "3번 학생은 합격입니다. \n",
      "4번 학생은 합격입니다. \n",
      "5번 학생은 불합격입니다. \n"
     ]
    }
   ],
   "source": [
    "score_list = [90, 45, 70, 60, 55]\n",
    "num = 0\n",
    "for score in score_list :\n",
    "    num = num+1\n",
    "    if score >= 60 :\n",
    "        result = \"합격\"\n",
    "    else :\n",
    "        result = \"불합격\"\n",
    "    print(\"{}번 학생은 {}입니다. \" .format(num, result))"
   ]
  },
  {
   "cell_type": "code",
   "execution_count": 43,
   "metadata": {},
   "outputs": [
    {
     "name": "stdout",
     "output_type": "stream",
     "text": [
      "1 2 3 4 5 6 7 8 9 "
     ]
    }
   ],
   "source": [
    "for i in range(1,10,1):\n",
    "    print(i, end=\" \")"
   ]
  },
  {
   "cell_type": "code",
   "execution_count": 45,
   "metadata": {},
   "outputs": [
    {
     "name": "stdout",
     "output_type": "stream",
     "text": [
      "3 4 5 6 7 8 9 "
     ]
    }
   ],
   "source": [
    "for i in range(3, 10) :\n",
    "    print(i, end=\" \")"
   ]
  },
  {
   "cell_type": "code",
   "execution_count": 62,
   "metadata": {},
   "outputs": [
    {
     "name": "stdout",
     "output_type": "stream",
     "text": [
      "97 96 95 94 93 92 91 90 89 88 87 86 85 84 83 82 81 80 79 78 77 "
     ]
    }
   ],
   "source": [
    "for num in range(97, 76, -1) : \n",
    "    print(num, end=\" \")\n",
    "    "
   ]
  },
  {
   "cell_type": "code",
   "execution_count": 63,
   "metadata": {},
   "outputs": [
    {
     "name": "stdout",
     "output_type": "stream",
     "text": [
      "23 24 25 26 27 28 29 30 31 32 33 34 35 36 37 38 39 "
     ]
    }
   ],
   "source": [
    "for num in range(23, 40) :\n",
    "    print(num, end=\" \")"
   ]
  },
  {
   "cell_type": "code",
   "execution_count": 78,
   "metadata": {},
   "outputs": [
    {
     "name": "stdout",
     "output_type": "stream",
     "text": [
      "첫 번째 정수입력 >> 10\n",
      "두 번째 정수입력 >> 30\n",
      "10 11 12 13 14 15 16 17 18 19 20 21 22 23 24 25 26 27 28 29 30 "
     ]
    }
   ],
   "source": [
    "start = int(input(\"첫 번째 정수입력 >> \"))  #여는 괄호는 2개인데 다는 괄호는 하나네요\n",
    "end = int(input(\"두 번째 정수입력 >> \"))\n",
    "for num in range(start, end+1, 1) :\n",
    "          print(num, end=\" \")"
   ]
  },
  {
   "cell_type": "code",
   "execution_count": 107,
   "metadata": {},
   "outputs": [
    {
     "name": "stdout",
     "output_type": "stream",
     "text": [
      "1683\n"
     ]
    }
   ],
   "source": [
    "# 1부터 100사이의 숫자 중 3의 배수인 값들의 합을 출력하시오\n",
    "num3 = 0\n",
    "for i in range(0, 101) :\n",
    "    if i % 3 == 0 :\n",
    "        num3 = num3 + i      \n",
    "print(num3)\n"
   ]
  },
  {
   "cell_type": "code",
   "execution_count": 108,
   "metadata": {},
   "outputs": [
    {
     "name": "stdout",
     "output_type": "stream",
     "text": [
      "2 * 1 = 2\n",
      "2 * 2 = 4\n",
      "2 * 3 = 6\n",
      "2 * 4 = 8\n",
      "2 * 5 = 10\n",
      "2 * 6 = 12\n",
      "2 * 7 = 14\n",
      "2 * 8 = 16\n",
      "2 * 9 = 18\n"
     ]
    }
   ],
   "source": [
    "#구구단 2단 시작\n",
    "for num2 in range(1, 10) :\n",
    "    print(\"2 * {} = {}\". format(num2, num2*2))\n",
    "    "
   ]
  },
  {
   "cell_type": "code",
   "execution_count": 133,
   "metadata": {},
   "outputs": [
    {
     "name": "stdout",
     "output_type": "stream",
     "text": [
      "정수 입력 >> 32\n",
      "32의 약수 :  1 2 4 8 16 32 "
     ]
    }
   ],
   "source": [
    "#숫자를 입력받고 입력받은 숫자의 약수를 구하시오.\n",
    "num = int(input(\"정수 입력 >> \"))\n",
    "print(\"{}의 약수 : \". format(num, i), end=\" \") # 32의 약수 < 출력이 한버만 되기 위해 위로 올림\n",
    "for i in range(1, num+1) :\n",
    "    if num % i == 0 :\n",
    "        print(i, end=\" \") # 약수산출 \n"
   ]
  },
  {
   "cell_type": "code",
   "execution_count": 9,
   "metadata": {},
   "outputs": [
    {
     "name": "stdout",
     "output_type": "stream",
     "text": [
      "[1]시험점수 입력  [2]성정확인  [3]종료 >>  3\n"
     ]
    }
   ],
   "source": [
    "#학점 관리 시스템\n",
    "\n",
    "while True :\n",
    "    menu = int(input(\"[1]시험점수 입력  [2]성정확인  [3]종료 >>  \"))\n",
    "    if menu == 3:\n",
    "        break\n",
    "\n",
    "    "
   ]
  },
  {
   "cell_type": "code",
   "execution_count": 6,
   "metadata": {},
   "outputs": [
    {
     "name": "stdout",
     "output_type": "stream",
     "text": [
      "[1]시험점수 입력  [2]성적확인  [3]종료 >>  1\n",
      "이름 입력 : 강북이\n",
      "Java 점수 입력 : 70\n",
      "Web 점수 입력 : 60\n",
      "[1]시험점수 입력  [2]성적확인  [3]종료 >>  1\n",
      "이름 입력 : 강남이\n",
      "Java 점수 입력 : 90\n",
      "Web 점수 입력 : 80\n",
      "[1]시험점수 입력  [2]성적확인  [3]종료 >>  2\n",
      "이름 Java Web grade\n",
      "강북이 70 60 D\n",
      "강남이 90 80 B\n",
      "[1]시험점수 입력  [2]성적확인  [3]종료 >>  3\n"
     ]
    }
   ],
   "source": [
    "#성정 관리 시스템 (학생들의 이름 자바점수 웹점수)\n",
    "score = [] #list\n",
    "while True :\n",
    "    menu = int(input(\"[1]시험점수 입력  [2]성적확인  [3]종료 >>  \"))\n",
    "    if menu == 1:\n",
    "        name = input('이름 입력 : ')\n",
    "        Java = input('Java 점수 입력 : ')\n",
    "        Web = input('Web 점수 입력 : ')\n",
    "        score.append([name, Java, Web])\n",
    "    elif menu == 2:\n",
    "        print('이름 Java Web grade')\n",
    "        for s in score :\n",
    "            avg = (int(s[1])+int(s[2]))/2\n",
    "            if avg >= 90 :\n",
    "                grade = 'A'\n",
    "            elif avg >= 80 :\n",
    "                grade = 'B'\n",
    "            elif avg >= 70 :\n",
    "                grade = 'C'\n",
    "            elif avg >= 60 :\n",
    "                grade = 'D'\n",
    "            elif avg < 60 :\n",
    "                grade = 'F'\n",
    "            print('{} {} {} {}'. format(s[0], s[1], s[2], grade))\n",
    "    elif menu == 3:\n",
    "        break\n",
    "            "
   ]
  },
  {
   "cell_type": "code",
   "execution_count": null,
   "metadata": {},
   "outputs": [],
   "source": []
  }
 ],
 "metadata": {
  "kernelspec": {
   "display_name": "Python 3",
   "language": "python",
   "name": "python3"
  }
 },
 "nbformat": 4,
 "nbformat_minor": 4
}
