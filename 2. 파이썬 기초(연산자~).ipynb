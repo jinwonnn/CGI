{
 "cells": [
  {
   "cell_type": "code",
   "execution_count": 1,
   "metadata": {},
   "outputs": [
    {
     "name": "stdout",
     "output_type": "stream",
     "text": [
      "1.4285714285714286\n",
      "3\n",
      "1\n"
     ]
    }
   ],
   "source": [
    "num1 = 10\n",
    "num2 = 7\n",
    "\n",
    "print(num1/num2)\n",
    "print(num1%num2)\n",
    "print(num1//num2)\n"
   ]
  },
  {
   "cell_type": "code",
   "execution_count": null,
   "metadata": {},
   "outputs": [],
   "source": []
  },
  {
   "cell_type": "code",
   "execution_count": 10,
   "metadata": {},
   "outputs": [
    {
     "name": "stdout",
     "output_type": "stream",
     "text": [
      "수 : 12\n",
      "3과 5의 배수가 아닙니다\n"
     ]
    }
   ],
   "source": [
    "num = int(input(\"수 : \"))\n",
    "\n",
    "if (num%3==0 and num%5==0):\n",
    "    print(\"3과 5의 배수입니다\")\n",
    "else :\n",
    "    print(\"3과 5의 배수가 아닙니다\")"
   ]
  },
  {
   "cell_type": "code",
   "execution_count": 7,
   "metadata": {},
   "outputs": [
    {
     "name": "stdout",
     "output_type": "stream",
     "text": [
      "17\n",
      "107\n"
     ]
    }
   ],
   "source": [
    "# 문자열 / 정수형 화 진행시 -> 변수에 int or str 지정 x -> 프린트에 지정하기!\n",
    "num1 = 10\n",
    "str2 = \"7\"\n",
    "\n",
    "print(num1 + int(str2))\n",
    "print(str(num1) + str2)"
   ]
  },
  {
   "cell_type": "code",
   "execution_count": 31,
   "metadata": {},
   "outputs": [
    {
     "name": "stdout",
     "output_type": "stream",
     "text": [
      "더하기 결과 : 26\n",
      "빼기 결과 : 20\n",
      "곱하기 결과 : 69\n",
      "나누기 결과 : 7.666666666666667\n"
     ]
    }
   ],
   "source": [
    "num1 = 23\n",
    "num2 = 3\n",
    "a = num1+num2\n",
    "b = num1-num2\n",
    "c = num1*num2\n",
    "d = num1/num2\n",
    "\n",
    "print(\"더하기 결과 : {}\".format(a))\n",
    "print(\"빼기 결과 : {}\".format(b))\n",
    "print(\"곱하기 결과 : {}\".format(c))\n",
    "print(\"나누기 결과 : {}\".format(d))\n"
   ]
  },
  {
   "cell_type": "code",
   "execution_count": 37,
   "metadata": {},
   "outputs": [
    {
     "name": "stdout",
     "output_type": "stream",
     "text": [
      "첫 번째 정수 입력 : 5\n",
      "두 번째 정수 입력 : 3\n",
      "더하기 결과 : 8\n",
      "빼기 결과 : 2\n",
      "곱하기 결과 : 15\n",
      "나누기 결과 : 1.6666666666666667\n"
     ]
    }
   ],
   "source": [
    "##키보드로 입력받아서 하기 / input / input은 str 문자열 타입임 -> 기본적 + 만 됨 / int 붙여 정수형 가능\n",
    "num1 = int(input(\"첫 번째 정수 입력 : \"))\n",
    "num2 = int(input(\"두 번째 정수 입력 : \"))\n",
    "a = num1+num2\n",
    "b = num1-num2\n",
    "c = num1*num2\n",
    "d = num1/num2\n",
    "\n",
    "print(\"더하기 결과 : {}\".format(a))\n",
    "print(\"빼기 결과 : {}\".format(b))\n",
    "print(\"곱하기 결과 : {}\".format(c))\n",
    "print(\"나누기 결과 : {}\".format(d))"
   ]
  },
  {
   "cell_type": "markdown",
   "metadata": {},
   "source": [
    "# 데이터 타입 확인할 때 \n",
    "print(type(num1)"
   ]
  },
  {
   "cell_type": "code",
   "execution_count": 58,
   "metadata": {},
   "outputs": [
    {
     "name": "stdout",
     "output_type": "stream",
     "text": [
      "python 점수 입력 >>5\n",
      "머신러닝 점수 입력 >>3\n",
      "딥러닝 점수 입력 >>3\n",
      "합계 : 11\n",
      "평균 : 3.6666666666666665\n"
     ]
    }
   ],
   "source": [
    "num1 = int(input(\"python 점수 입력 >>\"))\n",
    "num2 = int(input(\"머신러닝 점수 입력 >>\"))\n",
    "num3 = int(input(\"딥러닝 점수 입력 >>\"))\n",
    "\n",
    "a = (num1+num2+num3) #중복수식은 변수로 지정하여 사용하기 편하게 go\n",
    "print(\"합계 : {}\". format(a))\n",
    "print(\"평균 : {}\". format(a/3)) #연산자 우선순위 높이는법 : ()\n",
    "\n"
   ]
  },
  {
   "cell_type": "code",
   "execution_count": 75,
   "metadata": {},
   "outputs": [
    {
     "name": "stdout",
     "output_type": "stream",
     "text": [
      "시간 입력 >> 7533\n",
      "2시간 5분 33초\n"
     ]
    }
   ],
   "source": [
    "#초를 입력받아 \"00시간 00분 00초 형태로 출력하시오\" / 시간의 나머지값의 나머지를 구하면됌!\n",
    "time = int(input(\"시간 입력 >> \"))\n",
    "hour = time//3600\n",
    "minute = time%3600//60\n",
    "second = time%3600%60\n",
    "\n",
    "print(\"{}시간 {}분 {}초\". format(hour, minute, second))"
   ]
  },
  {
   "cell_type": "code",
   "execution_count": 77,
   "metadata": {},
   "outputs": [
    {
     "name": "stdout",
     "output_type": "stream",
     "text": [
      "8\n"
     ]
    }
   ],
   "source": [
    "# 지수 연산자 : 숫자**지수\n",
    "# 2의 3승 = 8\n",
    "print(2**3)"
   ]
  },
  {
   "cell_type": "code",
   "execution_count": 79,
   "metadata": {},
   "outputs": [
    {
     "name": "stdout",
     "output_type": "stream",
     "text": [
      "30\n"
     ]
    }
   ],
   "source": [
    "#대입(복합)연산자\n",
    "num = 27\n",
    "num += 3  #num = num+3\n",
    "print(num)"
   ]
  },
  {
   "cell_type": "code",
   "execution_count": 85,
   "metadata": {},
   "outputs": [
    {
     "name": "stdout",
     "output_type": "stream",
     "text": [
      "10\n",
      "5\n"
     ]
    }
   ],
   "source": [
    "# 치환\n",
    "num1 = 5\n",
    "num2 = 10\n",
    "num3 = num1\n",
    "num1 = num2\n",
    "num2 = num3\n",
    "\n",
    "print(num1)\n",
    "print(num2)"
   ]
  },
  {
   "cell_type": "code",
   "execution_count": 87,
   "metadata": {},
   "outputs": [
    {
     "name": "stdout",
     "output_type": "stream",
     "text": [
      "False\n",
      "True\n",
      "False\n",
      "True\n"
     ]
    }
   ],
   "source": [
    "a = 3\n",
    "b = 7\n",
    "\n",
    "print(a > b)\n",
    "print(a <= b)\n",
    "print(a == b)\n",
    "print(a != b)"
   ]
  },
  {
   "cell_type": "code",
   "execution_count": 88,
   "metadata": {},
   "outputs": [],
   "source": [
    "#논리 연산자 (TRUE , FALSE)\n",
    "#a and b = 둘다 true 나 false 일때 해당 값 \n",
    "#a or b = 둘줄 하나만 T / P 일때 해당 값\n",
    "#not a = T/P 반대 값으로 산출"
   ]
  },
  {
   "cell_type": "code",
   "execution_count": 92,
   "metadata": {},
   "outputs": [
    {
     "name": "stdout",
     "output_type": "stream",
     "text": [
      "불합격\n"
     ]
    }
   ],
   "source": [
    "#삼항연산자 / A if ~ else B\n",
    "scr = 45\n",
    "\n",
    "print( \"합격\" if scr >=60 else \"불합격\" )"
   ]
  },
  {
   "cell_type": "code",
   "execution_count": 100,
   "metadata": {},
   "outputs": [
    {
     "name": "stdout",
     "output_type": "stream",
     "text": [
      "정수 입력 >> 33\n",
      "33은 홀수입니다\n"
     ]
    }
   ],
   "source": [
    "#키보드로 정수입력 / 홀수 짝수 판별\n",
    "\n",
    "scr == int(input(\"정수 입력 >> \"))\n",
    "\n",
    "print(\"{}은 짝수입니다\" if scr%2==0 else \"{}은 홀수입니다\" .format(scr))"
   ]
  },
  {
   "cell_type": "code",
   "execution_count": 115,
   "metadata": {},
   "outputs": [
    {
     "name": "stdout",
     "output_type": "stream",
     "text": [
      "첫 번째 정수 입력 >> 5\n",
      "두 번째 정수 입력 >> 3\n",
      "두 수의 차 : 2\n"
     ]
    }
   ],
   "source": [
    "#두수 입력받아서 큰수 - 작은수 만들기\n",
    "scr1 = int(input(\"첫 번째 정수 입력 >> \"))\n",
    "scr2 = int(input(\"두 번째 정수 입력 >> \"))\n",
    "\n",
    "result = scr1-scr2 if scr1>scr2 else scr2-scr1\n",
    "\n",
    "print(\"두 수의 차 : {}\". format(result))\n"
   ]
  },
  {
   "cell_type": "markdown",
   "metadata": {},
   "source": [
    "# 조건문 \n",
    " - 어떠한 상황에 대해 다르게 처리하는 구문\n",
    " - 종류 : 단순 if, if~else, elif\n",
    " - else 뒤에 조건식 작성 하지 않는다 / 작성하면 error !!"
   ]
  },
  {
   "cell_type": "code",
   "execution_count": 117,
   "metadata": {},
   "outputs": [
    {
     "ename": "IndentationError",
     "evalue": "unexpected indent (<ipython-input-117-2e693e8bb0f2>, line 3)",
     "output_type": "error",
     "traceback": [
      "\u001b[1;36m  File \u001b[1;32m\"<ipython-input-117-2e693e8bb0f2>\"\u001b[1;36m, line \u001b[1;32m3\u001b[0m\n\u001b[1;33m    실행문장 동작\u001b[0m\n\u001b[1;37m    ^\u001b[0m\n\u001b[1;31mIndentationError\u001b[0m\u001b[1;31m:\u001b[0m unexpected indent\n"
     ]
    }
   ],
   "source": [
    "#단순 if문 구조\n",
    "#if 조건식의 결과가 참일 때:\n",
    "#     실행문장 동작"
   ]
  },
  {
   "cell_type": "code",
   "execution_count": 119,
   "metadata": {},
   "outputs": [
    {
     "name": "stdout",
     "output_type": "stream",
     "text": [
      "실행!\n"
     ]
    }
   ],
   "source": [
    "if True:\n",
    "    print('실행!')\n",
    "if False: # << False 이기 때문에 동장하지 않음 /// ★ 주의\n",
    "    print('실행!')"
   ]
  },
  {
   "cell_type": "code",
   "execution_count": 132,
   "metadata": {},
   "outputs": [
    {
     "name": "stdout",
     "output_type": "stream",
     "text": [
      "보유 Money : 12000\n",
      "택시를 탄다\n"
     ]
    }
   ],
   "source": [
    "money = int(input(\"보유 Money : \"))\n",
    "if money >= 10000:\n",
    "    print(\"택시를 탄다\")\n",
    "else: #else 뒤에 조건식 x / if 의 반대의경우 해당결과 산출\n",
    "    print(\"버스를 탄다\")"
   ]
  },
  {
   "cell_type": "code",
   "execution_count": 137,
   "metadata": {},
   "outputs": [
    {
     "name": "stdout",
     "output_type": "stream",
     "text": [
      "정수 입력 >> 15\n",
      "3과 5의 배수입니다\n"
     ]
    }
   ],
   "source": [
    "num = int(input(\"정수 입력 >> \"))\n",
    "\n",
    "if num%3==0 and num%5==0 :\n",
    "    print(\"3과 5의 배수입니다\")\n",
    "else :\n",
    "    print(\"3과 5의 배수가 아닙니다\")"
   ]
  },
  {
   "cell_type": "markdown",
   "metadata": {},
   "source": [
    "# elif\n",
    "if 조건식1 : #조건식의 결과가 false 라면 아래 elif 로 진행 / true면 break\n",
    "    실행문장1\n",
    "elif 조건식2 :\n",
    "    실행문장2\n",
    "elif 조건식3 :\n",
    "    실행문장3"
   ]
  },
  {
   "cell_type": "code",
   "execution_count": 139,
   "metadata": {},
   "outputs": [
    {
     "name": "stdout",
     "output_type": "stream",
     "text": [
      "첫 번째 정수 입력 >>2\n",
      "두 번째 정수 입력 >>1\n",
      "첫 번째 정수가 더 큽니다.\n"
     ]
    }
   ],
   "source": [
    "num1 = int(input(\"첫 번째 정수 입력 >>\"))\n",
    "num2 = int(input(\"두 번째 정수 입력 >>\"))\n",
    "\n",
    "if num1>num2 :\n",
    "    print(\"첫 번째 정수가 더 큽니다.\")\n",
    "elif num1<num2 :\n",
    "    print(\"두 번째 정수가 더 큽니다.\")\n",
    "elif num1==num2 :\n",
    "    print(\"두 수가 똑같습니다.\")\n",
    "    "
   ]
  },
  {
   "cell_type": "code",
   "execution_count": 144,
   "metadata": {},
   "outputs": [
    {
     "name": "stdout",
     "output_type": "stream",
     "text": [
      "점수 입력 >> 70\n",
      "70점은 C학점 입니다.\n"
     ]
    }
   ],
   "source": [
    "score = int(input(\"점수 입력 >> \"))\n",
    "\n",
    "if 90<=score<=100 :\n",
    "    print(\"{}점은 A학점 입니다.\". format(score))\n",
    "elif 80<=score<90 :\n",
    "    print(\"{}점은 B학점 입니다.\". format(score))\n",
    "elif 70<=score<80 :\n",
    "    print(\"{}점은 C학점 입니다.\". format(score))\n",
    "elif 60<=score<70 :\n",
    "    print(\"{}점은 D학점 입니다.\". format(score))\n",
    "else :\n",
    "    print(\"{}점은 F학점 입니다.\". format(score))"
   ]
  },
  {
   "cell_type": "code",
   "execution_count": 147,
   "metadata": {},
   "outputs": [
    {
     "name": "stdout",
     "output_type": "stream",
     "text": [
      "점수 입력 >> 75\n",
      "75점은  C 학점 입니다.\n"
     ]
    }
   ],
   "source": [
    "score = int(input(\"점수 입력 >> \"))\n",
    "\n",
    "if 90<=score<=100 :\n",
    "    grade = ' A '\n",
    "elif 80<=score<90 :\n",
    "    grade = ' B '\n",
    "elif 70<=score<80 :\n",
    "    grade = ' C '\n",
    "elif 60<=score<70 :\n",
    "    grade = ' D '\n",
    "else :\n",
    "    grade = ' F '\n",
    "    \n",
    "print(\"{}점은 {}학점 입니다.\". format(score, grade))"
   ]
  },
  {
   "cell_type": "markdown",
   "metadata": {},
   "source": [
    "단순 if VS elif\n",
    "-elif 문은 조건이 부합할 때 다른 조건을 확인하지 않는다!"
   ]
  },
  {
   "cell_type": "code",
   "execution_count": 149,
   "metadata": {},
   "outputs": [
    {
     "name": "stdout",
     "output_type": "stream",
     "text": [
      "30대 입니다.\n"
     ]
    }
   ],
   "source": [
    "age = 31\n",
    "if age >= 30 : \n",
    "    print(\"30대 입니다.\")\n",
    "    \n",
    "elif age >= 20:\n",
    "    print(\"20대 입니다.\")"
   ]
  },
  {
   "cell_type": "code",
   "execution_count": 244,
   "metadata": {},
   "outputs": [
    {
     "name": "stdout",
     "output_type": "stream",
     "text": [
      "선물셋트 구매 개수 >>15\n",
      "15개 구매시 예상 금액 : 120000원\n"
     ]
    }
   ],
   "source": [
    "num = int(input(\"선물셋트 구매 개수 >>\")) \n",
    "\n",
    "if num//11 > 1 : \n",
    "    gift = int(0.9 * 10000 * num)\n",
    "    \n",
    "if num%10==0 :\n",
    "    gift = int(0.97 * 10000 * num)\n",
    "\n",
    "print(\"{}개 구매시 예상 금액 : {}원\" . format(num, gift))"
   ]
  },
  {
   "cell_type": "code",
   "execution_count": 255,
   "metadata": {},
   "outputs": [
    {
     "name": "stdout",
     "output_type": "stream",
     "text": [
      "구매할 선물 개수 : 10\n",
      "총 금액 : 97000\n"
     ]
    }
   ],
   "source": [
    "pd_count = int(input(\"구매할 선물 개수 : \"))\n",
    "\n",
    "pd_money = 10000 # 선물세트 한 개의 금액\n",
    "total_money = 0 # 구매한 선물세트 총 금액\n",
    "\n",
    "if pd_count >= 11:\n",
    "    if pd_count % 10 == 0 :\n",
    "        total_money = pd_money * pd_count * 0.87\n",
    "    else :\n",
    "        total_money = pd_money * pd_count * 0.9\n",
    "\n",
    "else :\n",
    "    if pd_count % 10 == 0 :\n",
    "        total_money = pd_money * pd_count * 0.97\n",
    "    else :\n",
    "        total_money = pd_money * pd_count\n",
    "    \n",
    "print('총 금액 : {}' . format(int(total_money)))"
   ]
  },
  {
   "cell_type": "code",
   "execution_count": 268,
   "metadata": {
    "scrolled": true
   },
   "outputs": [
    {
     "name": "stdout",
     "output_type": "stream",
     "text": [
      "-----[SM Coffee]-----\n",
      "금액을 입력하세요 >> 1700\n",
      "커피를 고르세요\n",
      "[1]에스프레소(600원) [2]아메리카노(1000원) [3]카페라떼(1300원) >> 1\n",
      "거스름돈 : 1100\n"
     ]
    }
   ],
   "source": [
    "print(\"-----[SM Coffee]-----\")\n",
    "cash = int(input(\"금액을 입력하세요 >> \"))\n",
    "print(\"커피를 고르세요\")\n",
    "menu = int(input(\"[1]에스프레소(600원) [2]아메리카노(1000원) [3]카페라떼(1300원) >> \"))\n",
    "change = 0 #거스름돈을 저장하는 변수\n",
    "price = 0 #음료가격을 저장하는 변수\n",
    "if menu == 1 :\n",
    "    price = 600\n",
    "\n",
    "elif menu == 2 :\n",
    "    price = 1000\n",
    "    \n",
    "elif menu == 3 :\n",
    "    price = 1300\n",
    "    \n",
    "if cash >= price :\n",
    "    change = cash - price\n",
    "    print('거스름돈 : {}' . format(change))    \n",
    "else :\n",
    "    print('돈이 부족해요..')"
   ]
  },
  {
   "cell_type": "code",
   "execution_count": 2,
   "metadata": {},
   "outputs": [
    {
     "name": "stdout",
     "output_type": "stream",
     "text": [
      "-----[SM Coffee]-----\n",
      "금액을 입력하세요 >> 1700\n",
      "커피를 고르세요\n",
      " [1]에스프레소(600원) \n",
      " [2]아메리카노(1000원) \n",
      " [3]카페라떼(1300원) \n",
      " Select 1\n",
      "거스름돈 : 1100\n",
      "천원 : 1장\n",
      "오백원 : 0장\n",
      "백원 : 1장\n"
     ]
    }
   ],
   "source": [
    "#잔돈을 줄 때 천원, 오백원, 백원짜리를 몇개 줘야하는지\n",
    "print(\"-----[SM Coffee]-----\")\n",
    "cash = int(input(\"금액을 입력하세요 >> \"))\n",
    "print(\"커피를 고르세요\")\n",
    "menu = int(input(\" [1]에스프레소(600원) \\n [2]아메리카노(1000원) \\n [3]카페라떼(1300원) \\n Select \"))\n",
    "change = 0 #거스름돈을 저장하는 변수\n",
    "price = 0 #음료가격을 저장하는 변수\n",
    "if menu == 1 :\n",
    "    price = 600\n",
    "\n",
    "elif menu == 2 :\n",
    "    price = 1000\n",
    "    \n",
    "elif menu == 3 :\n",
    "    price = 1300\n",
    "    \n",
    "if cash >= price :\n",
    "    change = cash - price\n",
    "    print('거스름돈 : {}' . format(change))    \n",
    "\n",
    "    m1000 = change//1000\n",
    "    m500 = (change%1000)// 500\n",
    "    m100 = ((change%1000)% 500) // 100\n",
    "\n",
    "    print('천원 : {}장' . format(m1000))\n",
    "    print('오백원 : {}장' . format(m500))\n",
    "    print('백원 : {}장' . format(m100))\n",
    "\n",
    "else :\n",
    "    print('돈이 부족해요..')\n",
    "    \n"
   ]
  },
  {
   "cell_type": "code",
   "execution_count": null,
   "metadata": {},
   "outputs": [],
   "source": []
  }
 ],
 "metadata": {
  "kernelspec": {
   "display_name": "Python 3",
   "language": "python",
   "name": "python3"
  },
  "language_info": {
   "codemirror_mode": {
    "name": "ipython",
    "version": 3
   },
   "file_extension": ".py",
   "mimetype": "text/x-python",
   "name": "python",
   "nbconvert_exporter": "python",
   "pygments_lexer": "ipython3",
   "version": "3.8.5"
  }
 },
 "nbformat": 4,
 "nbformat_minor": 4
}
