{
 "cells": [
  {
   "cell_type": "code",
   "execution_count": 3,
   "metadata": {},
   "outputs": [
    {
     "ename": "SyntaxError",
     "evalue": "invalid syntax (<ipython-input-3-639e6a3e85f6>, line 8)",
     "output_type": "error",
     "traceback": [
      "\u001b[1;36m  File \u001b[1;32m\"<ipython-input-3-639e6a3e85f6>\"\u001b[1;36m, line \u001b[1;32m8\u001b[0m\n\u001b[1;33m    num1+num2+num3 ... +num10\u001b[0m\n\u001b[1;37m                   ^\u001b[0m\n\u001b[1;31mSyntaxError\u001b[0m\u001b[1;31m:\u001b[0m invalid syntax\n"
     ]
    }
   ],
   "source": [
    "# 1 ~ 10까지의 데이터 다루기\n",
    "num1 = 1\n",
    "num2 = 2\n",
    "num3 = 3\n",
    "...\n",
    "num10 = 10\n",
    "\n",
    "num1+num2+num3 ... +num10\n",
    "\n",
    "# 리스트 활용\n",
    "nums = [1.2.3.4.5.6.7.8.9.10]"
   ]
  },
  {
   "cell_type": "code",
   "execution_count": 4,
   "metadata": {},
   "outputs": [],
   "source": [
    "# 리스트 선언 & 초기화\n",
    "\n",
    "#1차원\n",
    "list_1 = [1,2,3,4,5] # 정수형\n",
    "list_2 = [3.4 , 1.2 , 6.5, 8.2 ,5.5] # 실수형\n",
    "list_3 = ['바나나', '키위', '딸기', '복숭아', '수박'] #문자열\n",
    "list_4 = [True, False] # 논리형\n",
    "\n",
    "#2차원 \n",
    "list_5 = [[1,2,3], [4,5,6]] "
   ]
  },
  {
   "cell_type": "markdown",
   "metadata": {},
   "source": [
    "# 리스트 인덱싱과 슬라이싱"
   ]
  },
  {
   "cell_type": "code",
   "execution_count": 13,
   "metadata": {},
   "outputs": [
    {
     "name": "stdout",
     "output_type": "stream",
     "text": [
      "[1, 2, 3, 4, 5]\n",
      "4\n",
      "6\n"
     ]
    }
   ],
   "source": [
    "print(list_1)\n",
    "print(list_1[3])\n",
    "print(list_1[0] + list_1[4])"
   ]
  },
  {
   "cell_type": "code",
   "execution_count": 67,
   "metadata": {},
   "outputs": [
    {
     "name": "stdout",
     "output_type": "stream",
     "text": [
      "['a', 'b', 'c']\n",
      "b\n"
     ]
    },
    {
     "data": {
      "text/plain": [
       "'b'"
      ]
     },
     "execution_count": 67,
     "metadata": {},
     "output_type": "execute_result"
    }
   ],
   "source": [
    "#인덱싱\n",
    "list2 = [1,2,3,['a','b','c']]\n",
    "print(list2[3])\n",
    "temp = list2[3]\n",
    "print(temp[1])\n",
    "list2[3][1]"
   ]
  },
  {
   "cell_type": "code",
   "execution_count": 30,
   "metadata": {},
   "outputs": [
    {
     "name": "stdout",
     "output_type": "stream",
     "text": [
      "['키위', '딸기', '복숭아']\n"
     ]
    }
   ],
   "source": [
    "#슬라이싱\n",
    "list_3 = ['바나나', '키위', '딸기', '복숭아', '수박']\n",
    "print(list_3[1:4])"
   ]
  },
  {
   "cell_type": "code",
   "execution_count": 33,
   "metadata": {},
   "outputs": [
    {
     "name": "stdout",
     "output_type": "stream",
     "text": [
      "[1, 2, 3, 4, 5]\n",
      "[3.4, 1.2, 6.5, 8.2, 5.5]\n",
      "[1, 2, 3, 4, 5, 3.4, 1.2, 6.5, 8.2, 5.5]\n"
     ]
    }
   ],
   "source": [
    "print(list_1)\n",
    "print(list_2)\n",
    "print(list_1 + list_2) # 두 개의 리스트를 하나의 리스트로 더하기"
   ]
  },
  {
   "cell_type": "code",
   "execution_count": 39,
   "metadata": {},
   "outputs": [
    {
     "data": {
      "text/plain": [
       "[1, 4, 2, 3]"
      ]
     },
     "execution_count": 39,
     "metadata": {},
     "output_type": "execute_result"
    }
   ],
   "source": [
    "temp_list = []\n",
    "#리스트에 요소 추가1\n",
    "temp_list.append(1)\n",
    "temp_list.append(2)\n",
    "temp_list.append(3)\n",
    "\n",
    "#원하는 위치에 요소 추가2\n",
    "temp_list.insert(1,4)\n",
    "temp_list"
   ]
  },
  {
   "cell_type": "code",
   "execution_count": 42,
   "metadata": {},
   "outputs": [
    {
     "data": {
      "text/plain": [
       "[1, 2, 3, 4]"
      ]
     },
     "execution_count": 42,
     "metadata": {},
     "output_type": "execute_result"
    }
   ],
   "source": [
    "# 리스트 내 데이터 수정\n",
    "temp_list[1] = 2\n",
    "temp_list[2] = 3\n",
    "temp_list[3] = 4\n",
    "temp_list"
   ]
  },
  {
   "cell_type": "code",
   "execution_count": 50,
   "metadata": {},
   "outputs": [],
   "source": [
    "#리스트 내 요소 삭제 , 삭제하고싶은 값 입력 -> remove / 위치삭제 -> del\n",
    "\n",
    "\n",
    "#temp_list.remove(3)\n",
    "\n",
    "# del 리스트명[인덱스] or리스트명[슬라이싱]\n",
    "\n",
    "#del temp_list[1]"
   ]
  },
  {
   "cell_type": "markdown",
   "metadata": {},
   "source": [
    "# 리스트 관련 기능"
   ]
  },
  {
   "cell_type": "code",
   "execution_count": 52,
   "metadata": {},
   "outputs": [
    {
     "data": {
      "text/plain": [
       "2"
      ]
     },
     "execution_count": 52,
     "metadata": {},
     "output_type": "execute_result"
    }
   ],
   "source": [
    "# 리스트의 길이 확인\n",
    "len(list_4)"
   ]
  },
  {
   "cell_type": "code",
   "execution_count": 54,
   "metadata": {},
   "outputs": [
    {
     "data": {
      "text/plain": [
       "[1.2, 3.4, 5.5, 6.5, 8.2]"
      ]
     },
     "execution_count": 54,
     "metadata": {},
     "output_type": "execute_result"
    }
   ],
   "source": [
    "# 리스트 내 요소 정렬 / sort (오름차순)\n",
    "# 내림차순 정렬 : 오름차순 sort -> 반대로 정렬 reverse 적용하기 \n",
    "# list_2.sort(reverse=True or False) 로 오름차순 , 내림차순 적용\n",
    "list_2.sort()\n",
    "list_2"
   ]
  },
  {
   "cell_type": "code",
   "execution_count": 60,
   "metadata": {},
   "outputs": [
    {
     "data": {
      "text/plain": [
       "[8.2, 6.5, 5.5, 3.4, 1.2]"
      ]
     },
     "execution_count": 60,
     "metadata": {},
     "output_type": "execute_result"
    }
   ],
   "source": [
    "#reverse / 반대로 정렬\n",
    "list_2.reverse()\n",
    "\n",
    "list_2.sort(reverse=True)\n",
    "list_2"
   ]
  },
  {
   "cell_type": "code",
   "execution_count": 63,
   "metadata": {},
   "outputs": [
    {
     "data": {
      "text/plain": [
       "(1, 2, 3, (4, 5, 6))"
      ]
     },
     "execution_count": 63,
     "metadata": {},
     "output_type": "execute_result"
    }
   ],
   "source": [
    "# 튜플 선언  & 초기화\n",
    "tuple_1 = (1,2,3,4,5)\n",
    "tuple_2 = ('바나나', '수박', '멜론')\n",
    "\n",
    "tuple_3 = (1,2,3,(4,5,6)) #튜플 안에 또 다른 튜플을 저장할 수 있음!\n",
    "           \n",
    "tuple_3\n"
   ]
  },
  {
   "cell_type": "code",
   "execution_count": 68,
   "metadata": {},
   "outputs": [
    {
     "data": {
      "text/plain": [
       "6"
      ]
     },
     "execution_count": 68,
     "metadata": {},
     "output_type": "execute_result"
    }
   ],
   "source": [
    "#튜플 내 요소 접근 : 인덱싱, 슬라이싱\n",
    "tuple_3[2]\n",
    "tuple_3[3][2] # 요소 내의 요소 아웃풋 내는 방법\n"
   ]
  },
  {
   "cell_type": "raw",
   "metadata": {},
   "source": [
    "리스트와 튜플 \n",
    "공통점 : 요소를 갖을 수 있다, 순서관리 가능\n",
    "차이점 : 리스트 -> 가변적(들어갈 갯수 몇개일지모를때 사용)  / 튜블 -> 불편적(들어갈 갯수 정해져있을때 사용)"
   ]
  },
  {
   "cell_type": "code",
   "execution_count": 71,
   "metadata": {},
   "outputs": [
    {
     "data": {
      "text/plain": [
       "False"
      ]
     },
     "execution_count": 71,
     "metadata": {},
     "output_type": "execute_result"
    }
   ],
   "source": [
    "list_9 = [1, 2, 3, 4]\n",
    "# list_9 안에 3이라는 요소가 포함되어 있는지 / 튜플도 동일사용 가능\n",
    "3 in list_9\n",
    "3 not in list_9"
   ]
  }
 ],
 "metadata": {
  "kernelspec": {
   "display_name": "Python 3",
   "language": "python",
   "name": "python3"
  },
  "language_info": {
   "codemirror_mode": {
    "name": "ipython",
    "version": 3
   },
   "file_extension": ".py",
   "mimetype": "text/x-python",
   "name": "python",
   "nbconvert_exporter": "python",
   "pygments_lexer": "ipython3",
   "version": "3.8.5"
  }
 },
 "nbformat": 4,
 "nbformat_minor": 4
}
